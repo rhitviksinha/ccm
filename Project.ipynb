{
  "cells": [
    {
      "cell_type": "code",
      "execution_count": 2,
      "id": "dc3f999d-3dae-4d7e-b72a-adc284d230f6",
      "metadata": {
        "id": "dc3f999d-3dae-4d7e-b72a-adc284d230f6"
      },
      "outputs": [],
      "source": [
        "# Import libraries\n",
        "from __future__ import print_function\n",
        "import matplotlib\n",
        "%matplotlib inline\n",
        "import matplotlib.pyplot as plt\n",
        "import numpy as np\n",
        "import torch\n",
        "import torch.nn as nn\n",
        "from torch.nn.functional import sigmoid, relu\n",
        "from scipy.cluster.hierarchy import dendrogram, linkage"
      ]
    },
    {
      "cell_type": "code",
      "execution_count": 4,
      "id": "1f97f2f0-f3a6-4226-b358-127016879db1",
      "metadata": {
        "colab": {
          "base_uri": "https://localhost:8080/"
        },
        "id": "1f97f2f0-f3a6-4226-b358-127016879db1",
        "outputId": "07ee4a9f-232d-45e6-abb4-b62b531f656d"
      },
      "outputs": [
        {
          "output_type": "stream",
          "name": "stdout",
          "text": [
            "List of items:\n",
            "['Pine' 'Oak' 'Rose' 'Daisy' 'Robin' 'Canary' 'Sunfish' 'Salmon']\n",
            "List of relations:\n",
            "['ISA' 'Is' 'Can' 'Has']\n",
            "List of attributes:\n",
            "['Living thing' 'Plant' 'Animal' 'Tree' 'Flower' 'Bird' 'Fish' 'Pine'\n",
            " 'Oak' 'Rose' 'Daisy' 'Robin' 'Canary' 'Sunfish' 'Salmon' 'Pretty' 'Big'\n",
            " 'Living' 'Green' 'Red' 'Yellow' 'Grow' 'Move' 'Swim' 'Fly' 'Sing' 'Skin'\n",
            " 'Roots' 'Leaves' 'Bark' 'Branch' 'Petals' 'Wings' 'Feathers' 'Gills'\n",
            " 'Scales']\n"
          ]
        }
      ],
      "source": [
        "with open('data/sem_items.txt','r') as fid:\n",
        "    names_items = np.array([l.strip() for l in fid.readlines()])\n",
        "with open('data/sem_relations.txt','r') as fid:\n",
        "    names_relations = np.array([l.strip() for l in fid.readlines()])\n",
        "with open('data/sem_attributes.txt','r') as fid:\n",
        "    names_attributes = np.array([l.strip() for l in fid.readlines()])\n",
        "\n",
        "nobj = len(names_items)\n",
        "nrel = len(names_relations)\n",
        "nattributes = len(names_attributes)\n",
        "print('List of items:')\n",
        "print(names_items)\n",
        "print(\"List of relations:\")\n",
        "print(names_relations)\n",
        "print(\"List of attributes:\")\n",
        "print(names_attributes)"
      ]
    },
    {
      "cell_type": "code",
      "execution_count": 5,
      "id": "71de1519-b6fa-460c-9420-6afd3bbadd4e",
      "metadata": {
        "colab": {
          "base_uri": "https://localhost:8080/"
        },
        "id": "71de1519-b6fa-460c-9420-6afd3bbadd4e",
        "outputId": "fc22bb1b-9db1-4669-85a0-f6d545a90a5b"
      },
      "outputs": [
        {
          "output_type": "stream",
          "name": "stdout",
          "text": [
            "Example input pattern:\n",
            "[1 0 0 0 0 0 0 0 1 0 0 0]\n",
            "Example output pattern:\n",
            "[1 1 0 1 0 0 0 1 0 0 0 0 0 0 0 0 0 0 0 0 0 0 0 0 0 0 0 0 0 0 0 0 0 0 0 0]\n",
            "\n",
            "Which encodes...\n",
            "Item ['Pine']\n",
            "Relation ['ISA']\n",
            "Attributes ['Living thing' 'Plant' 'Tree' 'Pine']\n"
          ]
        }
      ],
      "source": [
        "D = np.loadtxt('data/sem_data.txt')\n",
        "input_pats = D[:,:nobj+nrel]\n",
        "input_pats = torch.tensor(input_pats,dtype=torch.float)\n",
        "output_pats = D[:,nobj+nrel:]\n",
        "output_pats = torch.tensor(output_pats,dtype=torch.float)\n",
        "N = input_pats.shape[0] # number of training patterns\n",
        "input_v = input_pats[0,:].numpy().astype('bool')\n",
        "output_v = output_pats[0,:].numpy().astype('bool')\n",
        "print('Example input pattern:')\n",
        "print(input_v.astype('int'))\n",
        "print('Example output pattern:')\n",
        "print(output_v.astype('int'))\n",
        "print(\"\")\n",
        "print(\"Which encodes...\")\n",
        "print('Item ',end='')\n",
        "print(names_items[input_v[:8]])\n",
        "print('Relation ',end='')\n",
        "print(names_relations[input_v[8:]])\n",
        "print('Attributes ',end='')\n",
        "print(names_attributes[output_v])"
      ]
    },
    {
      "cell_type": "code",
      "execution_count": 6,
      "id": "3d7f7c7d-1e86-4f51-8d57-5f742f51e309",
      "metadata": {
        "colab": {
          "base_uri": "https://localhost:8080/"
        },
        "id": "3d7f7c7d-1e86-4f51-8d57-5f742f51e309",
        "outputId": "e163b7a7-84c9-46a9-fb5e-6fd8fef05b59"
      },
      "outputs": [
        {
          "output_type": "stream",
          "name": "stdout",
          "text": [
            "Dimensions: 1152\n",
            "count_0, count_1 = 1059, 93\n"
          ]
        }
      ],
      "source": [
        "# Function to generate questions and answers\n",
        "def generate_questions_answers(names_items, names_relations, names_attributes, data_matrix):\n",
        "    questions = []\n",
        "    answers = []\n",
        "    for i, item in enumerate(names_items):\n",
        "        for j, relation in enumerate(names_relations):\n",
        "            # print(item, relation)\n",
        "            # print(data_matrix[4*i + j,:nobj+nrel])\n",
        "            for k, attribute in enumerate(names_attributes):\n",
        "                # print(attribute)\n",
        "                question = f\"{relation.lower()} {item.lower()} {attribute.lower()}\"\n",
        "                answer = int(data_matrix[4*i + j,nobj+nrel+k])\n",
        "                questions.append(question)\n",
        "                answers.append(answer)\n",
        "    return questions, answers\n",
        "\n",
        "# Generate questions and answers\n",
        "questions, answers = generate_questions_answers(names_items, names_relations, names_attributes, D)\n",
        "print(f\"Dimensions: {len(questions)}\\ncount_0, count_1 = {answers.count(0)}, {answers.count(1)}\")"
      ]
    },
    {
      "cell_type": "code",
      "execution_count": 7,
      "id": "33a97ab4-e132-4749-9b99-26d168a45c01",
      "metadata": {
        "colab": {
          "base_uri": "https://localhost:8080/"
        },
        "id": "33a97ab4-e132-4749-9b99-26d168a45c01",
        "outputId": "70e7ae23-2e2d-4b3a-d1ea-b9a8aa0aed0d"
      },
      "outputs": [
        {
          "output_type": "stream",
          "name": "stdout",
          "text": [
            "Q: has canary living thing,\tA: No\n",
            "Q: has canary plant,\tA: No\n",
            "Q: has canary animal,\tA: No\n",
            "Q: has canary tree,\tA: No\n",
            "Q: has canary flower,\tA: No\n",
            "Q: has canary bird,\tA: No\n",
            "Q: has canary fish,\tA: No\n",
            "Q: has canary pine,\tA: No\n",
            "Q: has canary oak,\tA: No\n",
            "Q: has canary rose,\tA: No\n",
            "Q: has canary daisy,\tA: No\n",
            "Q: has canary robin,\tA: No\n",
            "Q: has canary canary,\tA: No\n",
            "Q: has canary sunfish,\tA: No\n",
            "Q: has canary salmon,\tA: No\n",
            "Q: has canary pretty,\tA: No\n",
            "Q: has canary big,\tA: No\n",
            "Q: has canary living,\tA: No\n",
            "Q: has canary green,\tA: No\n",
            "Q: has canary red,\tA: No\n",
            "Q: has canary yellow,\tA: No\n",
            "Q: has canary grow,\tA: No\n",
            "Q: has canary move,\tA: No\n",
            "Q: has canary swim,\tA: No\n",
            "Q: has canary fly,\tA: No\n",
            "Q: has canary sing,\tA: No\n",
            "Q: has canary skin,\tA: Yes\n",
            "Q: has canary roots,\tA: No\n",
            "Q: has canary leaves,\tA: No\n",
            "Q: has canary bark,\tA: No\n",
            "Q: has canary branch,\tA: No\n",
            "Q: has canary petals,\tA: No\n",
            "Q: has canary wings,\tA: Yes\n",
            "Q: has canary feathers,\tA: Yes\n",
            "Q: has canary gills,\tA: No\n",
            "Q: has canary scales,\tA: No\n"
          ]
        }
      ],
      "source": [
        "import random\n",
        "rand = random.randint(1, nobj*nrel)\n",
        "# Print a sample of randomly generated questions and answers\n",
        "for q, a in zip(questions[nattributes*(rand-1):nattributes*rand], answers[nattributes*(rand-1):nattributes*rand]):\n",
        "    print(f\"Q: {q},\\tA: {'Yes' if a == 1 else 'No'}\")"
      ]
    },
    {
      "cell_type": "markdown",
      "source": [],
      "metadata": {
        "id": "9_pRu5vWAObd"
      },
      "id": "9_pRu5vWAObd"
    },
    {
      "cell_type": "code",
      "source": [
        "import numpy as np\n",
        "from sklearn.utils import resample\n",
        "\n",
        "# Convert to numpy array for easier manipulation\n",
        "questions_array = np.array(questions)\n",
        "answers_array = np.array(answers)\n",
        "\n",
        "# Separate the majority and minority classes\n",
        "majority_questions = questions_array[answers_array == 0]\n",
        "minority_questions = questions_array[answers_array == 1]\n",
        "majority_labels = answers_array[answers_array == 0]\n",
        "minority_labels = answers_array[answers_array == 1]\n",
        "\n",
        "# Oversample the minority class\n",
        "minority_questions_upsampled, minority_labels_upsampled = resample(\n",
        "    minority_questions,\n",
        "    minority_labels,\n",
        "    replace=True,\n",
        "    n_samples=len(majority_questions),\n",
        "    random_state=123\n",
        ")\n",
        "\n",
        "# Combine back to a single dataset\n",
        "oversampled_questions = np.concatenate([majority_questions, minority_questions_upsampled])\n",
        "oversampled_answers = np.concatenate([majority_labels, minority_labels_upsampled])"
      ],
      "metadata": {
        "id": "DA3ejISaUZvq"
      },
      "id": "DA3ejISaUZvq",
      "execution_count": null,
      "outputs": []
    },
    {
      "cell_type": "code",
      "source": [
        "from sklearn.preprocessing import LabelEncoder\n",
        "from torch.utils.data import DataLoader, TensorDataset\n",
        "import torch\n",
        "\n",
        "# Simple tokenizer\n",
        "def tokenize(questions):\n",
        "    return [q.lower().split() for q in questions]\n",
        "\n",
        "# Build a vocabulary\n",
        "tokenized_questions = tokenize(oversampled_questions)\n",
        "vocabulary = set(word for sentence in tokenized_questions for word in sentence)\n",
        "word_to_index = {word: i + 1 for i, word in enumerate(vocabulary)}  # start indexing from 1\n",
        "word_to_index['<pad>'] = 0  # Add padding token\n",
        "\n",
        "# Encode the questions\n",
        "def encode_questions(questions, vocab, max_length):\n",
        "    encoded = np.zeros((len(questions), max_length), dtype=int)\n",
        "    for i, question in enumerate(questions):\n",
        "        encoded[i, :len(question)] = [vocab[word] for word in question if word in vocab]\n",
        "    return encoded\n",
        "\n",
        "max_length = max(len(q) for q in tokenized_questions)\n",
        "encoded_questions = encode_questions(tokenized_questions, word_to_index, max_length)\n",
        "\n",
        "# Convert to PyTorch datasets\n",
        "dataset = TensorDataset(torch.tensor(encoded_questions), torch.tensor(oversampled_answers))\n",
        "dataloader = DataLoader(dataset, batch_size=32, shuffle=True)"
      ],
      "metadata": {
        "id": "NaC6CqXBVuvh"
      },
      "id": "NaC6CqXBVuvh",
      "execution_count": null,
      "outputs": []
    },
    {
      "cell_type": "code",
      "source": [
        "import torch.nn as nn\n",
        "import torch.optim as optim\n",
        "\n",
        "class LSTMClassifier(nn.Module):\n",
        "    def __init__(self, vocab_size, embedding_dim, hidden_dim):\n",
        "        super(LSTMClassifier, self).__init__()\n",
        "        self.embedding = nn.Embedding(vocab_size, embedding_dim, padding_idx=0)\n",
        "        self.lstm = nn.LSTM(embedding_dim, hidden_dim, batch_first=True)\n",
        "        self.out = nn.Linear(hidden_dim, 1)\n",
        "\n",
        "    def forward(self, x):\n",
        "        x = self.embedding(x)\n",
        "        _, (hidden, _) = self.lstm(x)\n",
        "        x = self.out(hidden[-1])\n",
        "        return torch.sigmoid(x)\n",
        "\n",
        "model = LSTMClassifier(len(word_to_index), embedding_dim=50, hidden_dim=100)\n",
        "criterion = nn.BCELoss()\n",
        "optimizer = optim.Adam(model.parameters(), lr=0.001)"
      ],
      "metadata": {
        "id": "zAElGDTsWOIl"
      },
      "id": "zAElGDTsWOIl",
      "execution_count": null,
      "outputs": []
    },
    {
      "cell_type": "code",
      "source": [
        "from sklearn.metrics import accuracy_score, precision_recall_fscore_support\n",
        "\n",
        "num_epochs = 20\n",
        "for epoch in range(num_epochs):\n",
        "    model.train()\n",
        "    for questions, labels in dataloader:\n",
        "        optimizer.zero_grad()\n",
        "        output = model(questions)\n",
        "        loss = criterion(output.squeeze(), labels.float())\n",
        "        loss.backward()\n",
        "        optimizer.step()\n",
        "\n",
        "    # Evaluate (you might want to split your data or use a separate validation set)\n",
        "    model.eval()\n",
        "    with torch.no_grad():\n",
        "        predictions = []\n",
        "        truths = []\n",
        "        for questions, labels in dataloader:\n",
        "            output = model(questions)\n",
        "            predictions.extend(output.squeeze().round().numpy())\n",
        "            truths.extend(labels.numpy())\n",
        "\n",
        "        acc = accuracy_score(truths, predictions)\n",
        "        precision, recall, f1, _ = precision_recall_fscore_support(truths, predictions, average='binary')\n",
        "        print(f\"Epoch {epoch+1}: Accuracy: {acc:.2f}, Precision: {precision:.2f}, Recall: {recall:.2f}, F1: {f1:.2f}\")"
      ],
      "metadata": {
        "colab": {
          "base_uri": "https://localhost:8080/"
        },
        "id": "13R7cH7QWXNp",
        "outputId": "dce644d0-df76-46b1-b5fb-de98e7ad78f1"
      },
      "id": "13R7cH7QWXNp",
      "execution_count": null,
      "outputs": [
        {
          "output_type": "stream",
          "name": "stdout",
          "text": [
            "Epoch 1: Accuracy: 0.66, Precision: 0.66, Recall: 0.66, F1: 0.66\n",
            "Epoch 2: Accuracy: 0.72, Precision: 0.70, Recall: 0.78, F1: 0.73\n",
            "Epoch 3: Accuracy: 0.84, Precision: 0.78, Recall: 0.95, F1: 0.86\n",
            "Epoch 4: Accuracy: 0.92, Precision: 0.87, Recall: 0.98, F1: 0.92\n",
            "Epoch 5: Accuracy: 0.95, Precision: 0.94, Recall: 0.97, F1: 0.95\n",
            "Epoch 6: Accuracy: 0.98, Precision: 0.97, Recall: 0.99, F1: 0.98\n",
            "Epoch 7: Accuracy: 0.99, Precision: 0.98, Recall: 1.00, F1: 0.99\n",
            "Epoch 8: Accuracy: 0.99, Precision: 0.99, Recall: 1.00, F1: 0.99\n",
            "Epoch 9: Accuracy: 1.00, Precision: 0.99, Recall: 1.00, F1: 1.00\n",
            "Epoch 10: Accuracy: 1.00, Precision: 1.00, Recall: 1.00, F1: 1.00\n",
            "Epoch 11: Accuracy: 1.00, Precision: 1.00, Recall: 1.00, F1: 1.00\n",
            "Epoch 12: Accuracy: 1.00, Precision: 1.00, Recall: 1.00, F1: 1.00\n",
            "Epoch 13: Accuracy: 1.00, Precision: 1.00, Recall: 1.00, F1: 1.00\n",
            "Epoch 14: Accuracy: 1.00, Precision: 1.00, Recall: 1.00, F1: 1.00\n",
            "Epoch 15: Accuracy: 1.00, Precision: 1.00, Recall: 1.00, F1: 1.00\n",
            "Epoch 16: Accuracy: 1.00, Precision: 1.00, Recall: 1.00, F1: 1.00\n",
            "Epoch 17: Accuracy: 1.00, Precision: 1.00, Recall: 1.00, F1: 1.00\n",
            "Epoch 18: Accuracy: 1.00, Precision: 1.00, Recall: 1.00, F1: 1.00\n",
            "Epoch 19: Accuracy: 1.00, Precision: 1.00, Recall: 1.00, F1: 1.00\n",
            "Epoch 20: Accuracy: 1.00, Precision: 1.00, Recall: 1.00, F1: 1.00\n"
          ]
        }
      ]
    },
    {
      "cell_type": "code",
      "source": [
        "import re\n",
        "\n",
        "def clean_text(text):\n",
        "    # Remove punctuation\n",
        "    return re.sub(r'[^\\w\\s]', '', text)\n",
        "\n",
        "def preprocess_question(question, vocab, max_length):\n",
        "    # Clean and tokenize the question\n",
        "    cleaned_question = clean_text(question)\n",
        "    tokens = cleaned_question.lower().split()\n",
        "    encoded = np.zeros(max_length, dtype=int)\n",
        "    idx = 0\n",
        "    for word in tokens:\n",
        "        if word in vocab and idx < max_length:\n",
        "            encoded[idx] = vocab[word]\n",
        "            idx += 1\n",
        "    return torch.tensor(encoded).unsqueeze(0)  # Add batch dimension\n",
        "\n",
        "def predict_question(question, model, vocab, max_length):\n",
        "    model.eval()  # Set the model to evaluation mode\n",
        "    encoded_question = preprocess_question(question, vocab, max_length)\n",
        "    with torch.no_grad():\n",
        "        prediction = model(encoded_question)\n",
        "        prediction_label = 1 if prediction.item() > 0.5 else 0\n",
        "    return prediction_label\n",
        "\n",
        "# Example usage:\n",
        "question = \"Isa Canary living thing?\"\n",
        "predicted_label = predict_question(question, model, word_to_index, max_length)\n",
        "print(f\"The predicted label for the question '{question}' is: {predicted_label}\")"
      ],
      "metadata": {
        "colab": {
          "base_uri": "https://localhost:8080/"
        },
        "id": "18f7XiajWbZ6",
        "outputId": "27099de8-ad8f-40d5-f230-18c4280c1c43"
      },
      "id": "18f7XiajWbZ6",
      "execution_count": null,
      "outputs": [
        {
          "output_type": "stream",
          "name": "stdout",
          "text": [
            "The predicted label for the question 'Isa Canary living thing?' is: 1\n"
          ]
        }
      ]
    },
    {
      "cell_type": "code",
      "source": [],
      "metadata": {
        "id": "JYzazcjQXPt5"
      },
      "id": "JYzazcjQXPt5",
      "execution_count": null,
      "outputs": []
    }
  ],
  "metadata": {
    "kernelspec": {
      "display_name": "Python 3",
      "name": "python3"
    },
    "language_info": {
      "name": "python"
    },
    "colab": {
      "provenance": []
    }
  },
  "nbformat": 4,
  "nbformat_minor": 5
}